{
 "cells": [
  {
   "cell_type": "code",
   "execution_count": 1,
   "metadata": {},
   "outputs": [
    {
     "name": "stdout",
     "output_type": "stream",
     "text": [
      "387   122\n",
      "649   118\n",
      "639   274\n",
      "386   305\n",
      "763   214\n"
     ]
    }
   ],
   "source": [
    "\n",
    "import cv2\n",
    "def on_click(event, x, y, flags, params):\n",
    "\tif event == cv2.EVENT_LBUTTONDOWN:\n",
    "\t\tprint(x, ' ', y)\n",
    "\t\tfont = cv2.FONT_HERSHEY_SIMPLEX\n",
    "\t\tcv2.putText(img, str(x) + ',' +str(y), (x,y), font,1, (255, 0, 0), 2)\n",
    "\t\tcv2.imshow('image', img)\n",
    "\n",
    "\t\t\n",
    "\tif event==cv2.EVENT_RBUTTONDOWN:\n",
    "\t\tprint(x, ' ', y)\n",
    "\t\tfont = cv2.FONT_HERSHEY_SIMPLEX\n",
    "\t\tb = img[y, x, 0]\n",
    "\t\tg = img[y, x, 1]\n",
    "\t\tr = img[y, x, 2]\n",
    "\t\tcv2.putText(img, str(b) + ',' +\n",
    "\t\t\t\t\tstr(g) + ',' + str(r),\n",
    "\t\t\t\t\t(x,y), font, 1,\n",
    "\t\t\t\t\t(255, 255, 0), 2)\n",
    "\t\tcv2.imshow('image', img)\n",
    "\n",
    "\n",
    "img = cv2.imread('/users/iamns45/Downloads/CV-2/Question 1/img1c.png', 1)\n",
    "cv2.imshow('image', img)\n",
    "\n",
    "cv2.setMouseCallback('image', on_click)\n",
    "cv2.waitKey(0)\n",
    "cv2.destroyAllWindows()"
   ]
  }
 ],
 "metadata": {
  "kernelspec": {
   "display_name": "Python 3.10.6 64-bit",
   "language": "python",
   "name": "python3"
  },
  "language_info": {
   "codemirror_mode": {
    "name": "ipython",
    "version": 3
   },
   "file_extension": ".py",
   "mimetype": "text/x-python",
   "name": "python",
   "nbconvert_exporter": "python",
   "pygments_lexer": "ipython3",
   "version": "3.10.6"
  },
  "orig_nbformat": 4,
  "vscode": {
   "interpreter": {
    "hash": "aee8b7b246df8f9039afb4144a1f6fd8d2ca17a180786b69acc140d282b71a49"
   }
  }
 },
 "nbformat": 4,
 "nbformat_minor": 2
}
